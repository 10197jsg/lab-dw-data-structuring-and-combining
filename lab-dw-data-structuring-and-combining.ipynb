{
 "cells": [
  {
   "cell_type": "markdown",
   "id": "25d7736c-ba17-4aff-b6bb-66eba20fbf4e",
   "metadata": {
    "id": "25d7736c-ba17-4aff-b6bb-66eba20fbf4e"
   },
   "source": [
    "# Lab | Data Structuring and Combining Data"
   ]
  },
  {
   "cell_type": "markdown",
   "id": "a2cdfc70-44c8-478c-81e7-2bc43fdf4986",
   "metadata": {
    "id": "a2cdfc70-44c8-478c-81e7-2bc43fdf4986"
   },
   "source": [
    "## Challenge 1: Combining & Cleaning Data\n",
    "\n",
    "In this challenge, we will be working with the customer data from an insurance company, as we did in the two previous labs. The data can be found here:\n",
    "- https://raw.githubusercontent.com/data-bootcamp-v4/data/main/file1.csv\n",
    "\n",
    "But this time, we got new data, which can be found in the following 2 CSV files located at the links below.\n",
    "\n",
    "- https://raw.githubusercontent.com/data-bootcamp-v4/data/main/file2.csv\n",
    "- https://raw.githubusercontent.com/data-bootcamp-v4/data/main/file3.csv\n",
    "\n",
    "Note that you'll need to clean and format the new data.\n",
    "\n",
    "Observation:\n",
    "- One option is to first combine the three datasets and then apply the cleaning function to the new combined dataset\n",
    "- Another option would be to read the clean file you saved in the previous lab, and just clean the two new files and concatenate the three clean datasets"
   ]
  },
  {
   "cell_type": "code",
   "execution_count": 7,
   "id": "492d06e3-92c7-4105-ac72-536db98d3244",
   "metadata": {
    "id": "492d06e3-92c7-4105-ac72-536db98d3244"
   },
   "outputs": [
    {
     "name": "stdout",
     "output_type": "stream",
     "text": [
      "✅ Final cleaned and combined dataset saved as 'final_combined_customer_data.csv'\n",
      "Total rows in final dataset: 9138\n"
     ]
    }
   ],
   "source": [
    "import pandas as pd\n",
    "\n",
    "df1 = pd.read_csv('cleaned_customer_data.csv')\n",
    "\n",
    "def clean_customer_data(df):\n",
    "    df.columns = df.columns.str.strip().str.lower().str.replace(' ', '_')\n",
    "\n",
    "    if 'st' in df.columns:\n",
    "        df.rename(columns={'st': 'state'}, inplace=True)\n",
    "\n",
    "    df['gender'] = df['gender'].str.strip().str.lower().replace({\n",
    "        'f': 'F', 'female': 'F', 'femal': 'F',\n",
    "        'm': 'M', 'male': 'M'\n",
    "    })\n",
    "\n",
    "    df['state'] = df['state'].replace({\n",
    "        'AZ': 'Arizona',\n",
    "        'Cali': 'California',\n",
    "        'WA': 'Washington'\n",
    "    })\n",
    "\n",
    "    df['education'] = df['education'].replace({'Bachelors': 'Bachelor'})\n",
    "\n",
    "    df['vehicle_class'] = df['vehicle_class'].replace({\n",
    "        'Luxury SUV': 'Luxury',\n",
    "        'Luxury Car': 'Luxury',\n",
    "        'Sports Car': 'Luxury'\n",
    "    })\n",
    "\n",
    "    df['customer_lifetime_value'] = df['customer_lifetime_value'].astype(str).str.replace('%', '', regex=False)\n",
    "    df['customer_lifetime_value'] = pd.to_numeric(df['customer_lifetime_value'], errors='coerce')\n",
    "\n",
    "    def extract_complaint_number(val):\n",
    "        if isinstance(val, str) and '/' in val:\n",
    "            parts = val.split('/')\n",
    "            if len(parts) >= 2 and parts[1].isdigit():\n",
    "                return int(parts[1])\n",
    "        elif pd.isna(val):\n",
    "            return val\n",
    "        else:\n",
    "            try:\n",
    "                return int(val)\n",
    "            except:\n",
    "                return None\n",
    "\n",
    "    df['number_of_open_complaints'] = df['number_of_open_complaints'].apply(extract_complaint_number)\n",
    "    df['number_of_open_complaints'] = pd.to_numeric(df['number_of_open_complaints'], errors='coerce')\n",
    "\n",
    "    numerical_cols = df.select_dtypes(include=['float64', 'int64']).columns\n",
    "    for col in numerical_cols:\n",
    "        df[col] = df[col].fillna(df[col].median())\n",
    "\n",
    "    categorical_cols = df.select_dtypes(include='object').columns\n",
    "    for col in categorical_cols:\n",
    "        df[col] = df[col].fillna(df[col].mode()[0])\n",
    "\n",
    "    for col in numerical_cols:\n",
    "        df[col] = df[col].astype(int)\n",
    "\n",
    "    df = df.drop_duplicates().reset_index(drop=True)\n",
    "\n",
    "    return df\n",
    "\n",
    "url2 = \"https://raw.githubusercontent.com/data-bootcamp-v4/data/main/file2.csv\"\n",
    "url3 = \"https://raw.githubusercontent.com/data-bootcamp-v4/data/main/file3.csv\"\n",
    "\n",
    "df2 = pd.read_csv(url2)\n",
    "df3 = pd.read_csv(url3)\n",
    "\n",
    "df2_cleaned = clean_customer_data(df2)\n",
    "df3_cleaned = clean_customer_data(df3)\n",
    "\n",
    "final_df = pd.concat([df1, df2_cleaned, df3_cleaned], ignore_index=True)\n",
    "\n",
    "final_df.to_csv('final_combined_customer_data.csv', index=False)\n",
    "\n",
    "print(\"✅ Final cleaned and combined dataset saved as 'final_combined_customer_data.csv'\")\n",
    "print(f\"Total rows in final dataset: {final_df.shape[0]}\")\n",
    "                  \n"
   ]
  },
  {
   "cell_type": "markdown",
   "id": "31b8a9e7-7db9-4604-991b-ef6771603e57",
   "metadata": {
    "id": "31b8a9e7-7db9-4604-991b-ef6771603e57"
   },
   "source": [
    "# Challenge 2: Structuring Data"
   ]
  },
  {
   "cell_type": "markdown",
   "id": "a877fd6d-7a0c-46d2-9657-f25036e4ca4b",
   "metadata": {
    "id": "a877fd6d-7a0c-46d2-9657-f25036e4ca4b"
   },
   "source": [
    "In this challenge, we will continue to work with customer data from an insurance company, but we will use a dataset with more columns, called marketing_customer_analysis.csv, which can be found at the following link:\n",
    "\n",
    "https://raw.githubusercontent.com/data-bootcamp-v4/data/main/marketing_customer_analysis_clean.csv\n",
    "\n",
    "This dataset contains information such as customer demographics, policy details, vehicle information, and the customer's response to the last marketing campaign. Our goal is to explore and analyze this data by performing data cleaning, formatting, and structuring.\n",
    "\n",
    "1. You work at the marketing department and you want to know which sales channel brought the most sales in terms of total revenue. Using pivot, create a summary table showing the total revenue for each sales channel (branch, call center, web, and mail).\n",
    "Round the total revenue to 2 decimal points.  Analyze the resulting table to draw insights.\n",
    "2. Create a pivot table that shows the average customer lifetime value per gender and education level. Analyze the resulting table to draw insights."
   ]
  },
  {
   "cell_type": "code",
   "execution_count": null,
   "id": "aa10d9b0-1c27-4d3f-a8e4-db6ab73bfd26",
   "metadata": {
    "id": "aa10d9b0-1c27-4d3f-a8e4-db6ab73bfd26"
   },
   "outputs": [
    {
     "name": "stdout",
     "output_type": "stream",
     "text": [
      "🔍 Dataset shape: (10910, 27)\n",
      "\n",
      "🧾 First few rows:\n",
      "   unnamed:_0 customer       state  customer_lifetime_value response  \\\n",
      "0           0  DK49336     Arizona              4809.216960       No   \n",
      "1           1  KX64629  California              2228.525238       No   \n",
      "2           2  LZ68649  Washington             14947.917300       No   \n",
      "3           3  XL78013      Oregon             22332.439460      Yes   \n",
      "4           4  QA50777      Oregon              9025.067525       No   \n",
      "\n",
      "   coverage education effective_to_date employmentstatus gender  ...  \\\n",
      "0     Basic   College        2011-02-18         Employed      M  ...   \n",
      "1     Basic   College        2011-01-18       Unemployed      F  ...   \n",
      "2     Basic  Bachelor        2011-02-10         Employed      M  ...   \n",
      "3  Extended   College        2011-01-11         Employed      M  ...   \n",
      "4   Premium  Bachelor        2011-01-17    Medical Leave      F  ...   \n",
      "\n",
      "   number_of_policies     policy_type        policy  renew_offer_type  \\\n",
      "0                   9  Corporate Auto  Corporate L3            Offer3   \n",
      "1                   1   Personal Auto   Personal L3            Offer4   \n",
      "2                   2   Personal Auto   Personal L3            Offer3   \n",
      "3                   2  Corporate Auto  Corporate L3            Offer2   \n",
      "4                   7   Personal Auto   Personal L2            Offer1   \n",
      "\n",
      "   sales_channel  total_claim_amount  vehicle_class  vehicle_size  \\\n",
      "0          Agent          292.800000  Four-Door Car       Medsize   \n",
      "1    Call Center          744.924331  Four-Door Car       Medsize   \n",
      "2    Call Center          480.000000            SUV       Medsize   \n",
      "3         Branch          484.013411  Four-Door Car       Medsize   \n",
      "4         Branch          707.925645  Four-Door Car       Medsize   \n",
      "\n",
      "  vehicle_type month  \n",
      "0            A     2  \n",
      "1            A     1  \n",
      "2            A     2  \n",
      "3            A     1  \n",
      "4            A     1  \n",
      "\n",
      "[5 rows x 27 columns]\n",
      "\n",
      "🧠 Data types:\n",
      "unnamed:_0                         int64\n",
      "customer                          object\n",
      "state                             object\n",
      "customer_lifetime_value          float64\n",
      "response                          object\n",
      "coverage                          object\n",
      "education                         object\n",
      "effective_to_date                 object\n",
      "employmentstatus                  object\n",
      "gender                            object\n",
      "income                             int64\n",
      "location_code                     object\n",
      "marital_status                    object\n",
      "monthly_premium_auto               int64\n",
      "months_since_last_claim          float64\n",
      "months_since_policy_inception      int64\n",
      "number_of_open_complaints        float64\n",
      "number_of_policies                 int64\n",
      "policy_type                       object\n",
      "policy                            object\n",
      "renew_offer_type                  object\n",
      "sales_channel                     object\n",
      "total_claim_amount               float64\n",
      "vehicle_class                     object\n",
      "vehicle_size                      object\n",
      "vehicle_type                      object\n",
      "month                              int64\n",
      "dtype: object\n",
      "\n",
      "🕳️ Null values per column:\n",
      "unnamed:_0                       0\n",
      "customer                         0\n",
      "state                            0\n",
      "customer_lifetime_value          0\n",
      "response                         0\n",
      "coverage                         0\n",
      "education                        0\n",
      "effective_to_date                0\n",
      "employmentstatus                 0\n",
      "gender                           0\n",
      "income                           0\n",
      "location_code                    0\n",
      "marital_status                   0\n",
      "monthly_premium_auto             0\n",
      "months_since_last_claim          0\n",
      "months_since_policy_inception    0\n",
      "number_of_open_complaints        0\n",
      "number_of_policies               0\n",
      "policy_type                      0\n",
      "policy                           0\n",
      "renew_offer_type                 0\n",
      "sales_channel                    0\n",
      "total_claim_amount               0\n",
      "vehicle_class                    0\n",
      "vehicle_size                     0\n",
      "vehicle_type                     0\n",
      "month                            0\n",
      "dtype: int64\n",
      "\n",
      "📊 Numerical columns: ['unnamed:_0', 'customer_lifetime_value', 'income', 'monthly_premium_auto', 'months_since_last_claim', 'months_since_policy_inception', 'number_of_open_complaints', 'number_of_policies', 'total_claim_amount', 'month']\n",
      "🔤 Categorical columns: ['customer', 'state', 'response', 'coverage', 'education', 'effective_to_date', 'employmentstatus', 'gender', 'location_code', 'marital_status', 'policy_type', 'policy', 'renew_offer_type', 'sales_channel', 'vehicle_class', 'vehicle_size', 'vehicle_type']\n",
      "\n",
      "📈 Summary statistics (numerical):\n",
      "         unnamed:_0  customer_lifetime_value        income  \\\n",
      "count  10910.000000             10910.000000  10910.000000   \n",
      "mean    5454.500000              8018.241094  37536.284785   \n",
      "std     3149.590053              6885.081434  30359.195670   \n",
      "min        0.000000              1898.007675      0.000000   \n",
      "25%     2727.250000              4014.453113      0.000000   \n",
      "50%     5454.500000              5771.147235  33813.500000   \n",
      "75%     8181.750000              8992.779137  62250.750000   \n",
      "max    10909.000000             83325.381190  99981.000000   \n",
      "\n",
      "       monthly_premium_auto  months_since_last_claim  \\\n",
      "count          10910.000000             10910.000000   \n",
      "mean              93.196059                15.149071   \n",
      "std               34.442532                 9.783520   \n",
      "min               61.000000                 0.000000   \n",
      "25%               68.000000                 7.000000   \n",
      "50%               83.000000                15.000000   \n",
      "75%              109.000000                23.000000   \n",
      "max              298.000000                35.000000   \n",
      "\n",
      "       months_since_policy_inception  number_of_open_complaints  \\\n",
      "count                   10910.000000               10910.000000   \n",
      "mean                       48.091934                   0.384256   \n",
      "std                        27.940675                   0.885589   \n",
      "min                         0.000000                   0.000000   \n",
      "25%                        24.000000                   0.000000   \n",
      "50%                        48.000000                   0.000000   \n",
      "75%                        71.000000                   0.384256   \n",
      "max                        99.000000                   5.000000   \n",
      "\n",
      "       number_of_policies  total_claim_amount         month  \n",
      "count        10910.000000        10910.000000  10910.000000  \n",
      "mean             2.979193          434.888330      1.466728  \n",
      "std              2.399359          292.180556      0.498915  \n",
      "min              1.000000            0.099007      1.000000  \n",
      "25%              1.000000          271.082527      1.000000  \n",
      "50%              2.000000          382.564630      1.000000  \n",
      "75%              4.000000          547.200000      2.000000  \n",
      "max              9.000000         2893.239678      2.000000  \n",
      "\n",
      "🔍 Unique values per categorical column:\n",
      "- customer: 9134 unique values\n",
      "- state: 5 unique values\n",
      "- response: 2 unique values\n",
      "- coverage: 3 unique values\n",
      "- education: 5 unique values\n",
      "- effective_to_date: 59 unique values\n",
      "- employmentstatus: 5 unique values\n",
      "- gender: 2 unique values\n",
      "- location_code: 3 unique values\n",
      "- marital_status: 3 unique values\n",
      "- policy_type: 3 unique values\n",
      "- policy: 9 unique values\n",
      "- renew_offer_type: 4 unique values\n",
      "- sales_channel: 4 unique values\n",
      "- vehicle_class: 6 unique values\n",
      "- vehicle_size: 3 unique values\n",
      "- vehicle_type: 1 unique values\n"
     ]
    }
   ],
   "source": [
    "url = \"https://raw.githubusercontent.com/data-bootcamp-v4/data/main/marketing_customer_analysis_clean.csv\"\n",
    "df = pd.read_csv(url)\n",
    "\n",
    "print(\"🔍 Dataset shape:\", df.shape)\n",
    "print(\"\\n🧾 First few rows:\")\n",
    "print(df.head())\n",
    "\n",
    "df.columns = df.columns.str.strip().str.lower().str.replace(' ', '_')\n",
    "\n",
    "print(\"\\n🧠 Data types:\")\n",
    "print(df.dtypes)\n",
    "\n",
    "print(\"\\n🕳️ Null values per column:\")\n",
    "print(df.isnull().sum())\n",
    "\n",
    "numerical_cols = df.select_dtypes(include=['int64', 'float64']).columns\n",
    "categorical_cols = df.select_dtypes(include='object').columns\n",
    "\n",
    "print(\"\\n📊 Numerical columns:\", list(numerical_cols))\n",
    "print(\"🔤 Categorical columns:\", list(categorical_cols))\n",
    "\n",
    "print(\"\\n📈 Summary statistics (numerical):\")\n",
    "print(df[numerical_cols].describe())\n",
    "\n",
    "print(\"\\n🔍 Unique values per categorical column:\")\n",
    "for col in categorical_cols:\n",
    "    print(f\"- {col}: {df[col].nunique()} unique values\")"
   ]
  },
  {
   "cell_type": "code",
   "execution_count": 9,
   "id": "bea1a621",
   "metadata": {},
   "outputs": [
    {
     "name": "stdout",
     "output_type": "stream",
     "text": [
      "📊 Total Revenue by Sales Channel:\n",
      "               total_claim_amount\n",
      "sales_channel                    \n",
      "Agent                  1810226.82\n",
      "Branch                 1301204.00\n",
      "Call Center             926600.82\n",
      "Web                     706600.04\n"
     ]
    }
   ],
   "source": [
    "revenue_by_channel = pd.pivot_table(\n",
    "    df,\n",
    "    index='sales_channel',\n",
    "    values='total_claim_amount',\n",
    "    aggfunc='sum'\n",
    ").round(2).sort_values(by='total_claim_amount', ascending=False)\n",
    "\n",
    "print(\"📊 Total Revenue by Sales Channel:\")\n",
    "print(revenue_by_channel)"
   ]
  },
  {
   "cell_type": "code",
   "execution_count": 10,
   "id": "b0f8577d",
   "metadata": {},
   "outputs": [
    {
     "name": "stdout",
     "output_type": "stream",
     "text": [
      "\n",
      "🎓 Average CLV by Gender and Education:\n",
      "education  Bachelor  College   Doctor  High School or Below   Master\n",
      "gender                                                              \n",
      "F           7874.27  7748.82  7328.51               8675.22  8157.05\n",
      "M           7703.60  8052.46  7415.33               8149.69  8168.83\n"
     ]
    }
   ],
   "source": [
    "clv_by_gender_edu = pd.pivot_table(\n",
    "    df,\n",
    "    index='gender',\n",
    "    columns='education',\n",
    "    values='customer_lifetime_value',\n",
    "    aggfunc='mean'\n",
    ").round(2)\n",
    "\n",
    "print(\"\\n🎓 Average CLV by Gender and Education:\")\n",
    "print(clv_by_gender_edu)"
   ]
  },
  {
   "cell_type": "markdown",
   "id": "32c7f2e5-3d90-43e5-be33-9781b6069198",
   "metadata": {
    "id": "32c7f2e5-3d90-43e5-be33-9781b6069198"
   },
   "source": [
    "## Bonus\n",
    "\n",
    "You work at the customer service department and you want to know which months had the highest number of complaints by policy type category. Create a summary table showing the number of complaints by policy type and month.\n",
    "Show it in a long format table."
   ]
  },
  {
   "cell_type": "markdown",
   "id": "e3d09a8f-953c-448a-a5f8-2e5a8cca7291",
   "metadata": {
    "id": "e3d09a8f-953c-448a-a5f8-2e5a8cca7291"
   },
   "source": [
    "*In data analysis, a long format table is a way of structuring data in which each observation or measurement is stored in a separate row of the table. The key characteristic of a long format table is that each column represents a single variable, and each row represents a single observation of that variable.*\n",
    "\n",
    "*More information about long and wide format tables here: https://www.statology.org/long-vs-wide-data/*"
   ]
  },
  {
   "cell_type": "code",
   "execution_count": null,
   "id": "3a069e0b-b400-470e-904d-d17582191be4",
   "metadata": {
    "id": "3a069e0b-b400-470e-904d-d17582191be4"
   },
   "outputs": [],
   "source": [
    "# Your code goes here"
   ]
  }
 ],
 "metadata": {
  "colab": {
   "provenance": []
  },
  "kernelspec": {
   "display_name": "base",
   "language": "python",
   "name": "python3"
  },
  "language_info": {
   "codemirror_mode": {
    "name": "ipython",
    "version": 3
   },
   "file_extension": ".py",
   "mimetype": "text/x-python",
   "name": "python",
   "nbconvert_exporter": "python",
   "pygments_lexer": "ipython3",
   "version": "3.12.7"
  }
 },
 "nbformat": 4,
 "nbformat_minor": 5
}
